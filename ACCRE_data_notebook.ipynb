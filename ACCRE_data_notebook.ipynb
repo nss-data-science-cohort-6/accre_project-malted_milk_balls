{
 "cells": [
  {
   "cell_type": "code",
   "execution_count": 19,
   "metadata": {},
   "outputs": [],
   "source": [
    "import pandas as pd\n",
    "import numpy as np\n",
    "from sklearn import preprocessing"
   ]
  },
  {
   "cell_type": "code",
   "execution_count": 20,
   "metadata": {},
   "outputs": [],
   "source": [
    "data = pd.read_csv('../accre_project-malted_milk_balls/accre-gpu-jobs-2022-v2.csv', on_bad_lines='skip')"
   ]
  },
  {
   "cell_type": "code",
   "execution_count": 22,
   "metadata": {},
   "outputs": [],
   "source": [
    "#Only include jobs that have been completed, 'STATE' = COMPLETED\n",
    "#Exclude jobs with memory usage = 0 Mb\n",
    "data = (data[\n",
    "    (data['STATE']=='COMPLETED') & \n",
    "    (data['USEDMEM']!='0') &\n",
    "    (data['USEDMEM']!='0.00M')\n",
    "    ])"
   ]
  },
  {
   "cell_type": "code",
   "execution_count": 23,
   "metadata": {},
   "outputs": [],
   "source": [
    "def str2seconds(timestr):\n",
    "    if len(timestr) == 8:\n",
    "        # split in hh, mm, ss\n",
    "        hh, mm, ss = timestr.split(':')\n",
    "        return int(hh) * 3600 + int(mm) * 60 + int(ss)\n",
    "    else:\n",
    "        d = timestr[0]\n",
    "        dropday = timestr[2:]\n",
    "        hh, mm, ss = dropday.split(':')\n",
    "        return int(d) *3600*24 + int(hh) * 3600 + int(mm) * 60 + int(ss)"
   ]
  },
  {
   "cell_type": "code",
   "execution_count": 24,
   "metadata": {},
   "outputs": [],
   "source": [
    "#First take times and convert to seconds\n",
    "usedtime = data['USEDTIME']\n",
    "reqtime = data['REQTIME']\n",
    "usedtime_seconds = []\n",
    "reqtime_seconds = []\n",
    "\n",
    "for string in usedtime:\n",
    "    usedtime_seconds.append(str2seconds(string))\n",
    "\n",
    "for string in reqtime:\n",
    "    reqtime_seconds.append(str2seconds(string))"
   ]
  },
  {
   "cell_type": "code",
   "execution_count": 25,
   "metadata": {},
   "outputs": [],
   "source": [
    "data['USEDMEM'] = data['USEDMEM'].str.strip('M').astype(float)"
   ]
  },
  {
   "cell_type": "code",
   "execution_count": 26,
   "metadata": {},
   "outputs": [],
   "source": [
    "data['req_time_seconds'] = reqtime_seconds\n",
    "data['used_time_seconds'] = usedtime_seconds\n",
    "\n",
    "#Get used memory per GPU for each job \n",
    "data['USEDMEM_per_GPU'] = data['USEDMEM']/data['GPUS']\n",
    "\n",
    "data['weighted_used_mem'] = (data['USEDMEM_per_GPU']*data['used_time_seconds'])/sum(usedtime_seconds)"
   ]
  },
  {
   "cell_type": "code",
   "execution_count": 27,
   "metadata": {},
   "outputs": [],
   "source": [
    "#Group by partition name for seperate analysis\n",
    "turing = data[data['PARTITION'] == 'turing']"
   ]
  }
 ],
 "metadata": {
  "kernelspec": {
   "display_name": "Python 3.9.12 ('base')",
   "language": "python",
   "name": "python3"
  },
  "language_info": {
   "codemirror_mode": {
    "name": "ipython",
    "version": 3
   },
   "file_extension": ".py",
   "mimetype": "text/x-python",
   "name": "python",
   "nbconvert_exporter": "python",
   "pygments_lexer": "ipython3",
   "version": "3.9.12"
  },
  "orig_nbformat": 4,
  "vscode": {
   "interpreter": {
    "hash": "08210294964727e4010dccc398c44f22b92a2e77e2aceea574ad21eae77cd8e8"
   }
  }
 },
 "nbformat": 4,
 "nbformat_minor": 2
}
